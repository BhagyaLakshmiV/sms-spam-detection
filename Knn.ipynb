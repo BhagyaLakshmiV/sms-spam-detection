{
  "nbformat": 4,
  "nbformat_minor": 0,
  "metadata": {
    "colab": {
      "name": "Knn.ipynb",
      "provenance": [],
      "collapsed_sections": []
    },
    "kernelspec": {
      "name": "python3",
      "display_name": "Python 3"
    }
  },
  "cells": [
    {
      "cell_type": "code",
      "metadata": {
        "id": "8px8V3pYZe6a"
      },
      "source": [
        "import pandas as pd\n",
        "import numpy as np\n",
        "from nltk.corpus import stopwords\n",
        "from sklearn.feature_extraction.text import CountVectorizer\n",
        "from sklearn.model_selection import train_test_split\n",
        "from sklearn.neighbors import KNeighborsClassifier\n",
        "from sklearn.metrics import f1_score,accuracy_score\n",
        "import string\n",
        "\n"
      ],
      "execution_count": null,
      "outputs": []
    },
    {
      "cell_type": "code",
      "metadata": {
        "id": "_qYLCJSRaD_c"
      },
      "source": [
        "x=\"/content/drive/My Drive/Project1/sms_spam.csv\"\n",
        "data=pd.read_csv(x,encoding=\"latin-1\")"
      ],
      "execution_count": null,
      "outputs": []
    },
    {
      "cell_type": "code",
      "metadata": {
        "id": "AR8CpAFed6RG",
        "colab": {
          "base_uri": "https://localhost:8080/",
          "height": 195
        },
        "outputId": "e4e92b3f-b25f-4961-f5eb-0a3d66f42ef4"
      },
      "source": [
        "data.head(5)"
      ],
      "execution_count": null,
      "outputs": [
        {
          "output_type": "execute_result",
          "data": {
            "text/html": [
              "<div>\n",
              "<style scoped>\n",
              "    .dataframe tbody tr th:only-of-type {\n",
              "        vertical-align: middle;\n",
              "    }\n",
              "\n",
              "    .dataframe tbody tr th {\n",
              "        vertical-align: top;\n",
              "    }\n",
              "\n",
              "    .dataframe thead th {\n",
              "        text-align: right;\n",
              "    }\n",
              "</style>\n",
              "<table border=\"1\" class=\"dataframe\">\n",
              "  <thead>\n",
              "    <tr style=\"text-align: right;\">\n",
              "      <th></th>\n",
              "      <th>v1</th>\n",
              "      <th>v2</th>\n",
              "      <th>Unnamed: 2</th>\n",
              "      <th>Unnamed: 3</th>\n",
              "      <th>Unnamed: 4</th>\n",
              "    </tr>\n",
              "  </thead>\n",
              "  <tbody>\n",
              "    <tr>\n",
              "      <th>0</th>\n",
              "      <td>ham</td>\n",
              "      <td>Go until jurong point, crazy.. Available only ...</td>\n",
              "      <td>NaN</td>\n",
              "      <td>NaN</td>\n",
              "      <td>NaN</td>\n",
              "    </tr>\n",
              "    <tr>\n",
              "      <th>1</th>\n",
              "      <td>ham</td>\n",
              "      <td>Ok lar... Joking wif u oni...</td>\n",
              "      <td>NaN</td>\n",
              "      <td>NaN</td>\n",
              "      <td>NaN</td>\n",
              "    </tr>\n",
              "    <tr>\n",
              "      <th>2</th>\n",
              "      <td>spam</td>\n",
              "      <td>Free entry in 2 a wkly comp to win FA Cup fina...</td>\n",
              "      <td>NaN</td>\n",
              "      <td>NaN</td>\n",
              "      <td>NaN</td>\n",
              "    </tr>\n",
              "    <tr>\n",
              "      <th>3</th>\n",
              "      <td>ham</td>\n",
              "      <td>U dun say so early hor... U c already then say...</td>\n",
              "      <td>NaN</td>\n",
              "      <td>NaN</td>\n",
              "      <td>NaN</td>\n",
              "    </tr>\n",
              "    <tr>\n",
              "      <th>4</th>\n",
              "      <td>ham</td>\n",
              "      <td>Nah I don't think he goes to usf, he lives aro...</td>\n",
              "      <td>NaN</td>\n",
              "      <td>NaN</td>\n",
              "      <td>NaN</td>\n",
              "    </tr>\n",
              "  </tbody>\n",
              "</table>\n",
              "</div>"
            ],
            "text/plain": [
              "     v1  ... Unnamed: 4\n",
              "0   ham  ...        NaN\n",
              "1   ham  ...        NaN\n",
              "2  spam  ...        NaN\n",
              "3   ham  ...        NaN\n",
              "4   ham  ...        NaN\n",
              "\n",
              "[5 rows x 5 columns]"
            ]
          },
          "metadata": {
            "tags": []
          },
          "execution_count": 3
        }
      ]
    },
    {
      "cell_type": "code",
      "metadata": {
        "id": "ogYok6Gv-ILa",
        "colab": {
          "base_uri": "https://localhost:8080/",
          "height": 402
        },
        "outputId": "b4feaf4f-e00e-4ae1-a89f-f842264d7525"
      },
      "source": [
        "data.drop(['Unnamed: 2','Unnamed: 3','Unnamed: 4'],axis=1)"
      ],
      "execution_count": null,
      "outputs": [
        {
          "output_type": "execute_result",
          "data": {
            "text/html": [
              "<div>\n",
              "<style scoped>\n",
              "    .dataframe tbody tr th:only-of-type {\n",
              "        vertical-align: middle;\n",
              "    }\n",
              "\n",
              "    .dataframe tbody tr th {\n",
              "        vertical-align: top;\n",
              "    }\n",
              "\n",
              "    .dataframe thead th {\n",
              "        text-align: right;\n",
              "    }\n",
              "</style>\n",
              "<table border=\"1\" class=\"dataframe\">\n",
              "  <thead>\n",
              "    <tr style=\"text-align: right;\">\n",
              "      <th></th>\n",
              "      <th>v1</th>\n",
              "      <th>v2</th>\n",
              "    </tr>\n",
              "  </thead>\n",
              "  <tbody>\n",
              "    <tr>\n",
              "      <th>0</th>\n",
              "      <td>ham</td>\n",
              "      <td>Go until jurong point, crazy.. Available only ...</td>\n",
              "    </tr>\n",
              "    <tr>\n",
              "      <th>1</th>\n",
              "      <td>ham</td>\n",
              "      <td>Ok lar... Joking wif u oni...</td>\n",
              "    </tr>\n",
              "    <tr>\n",
              "      <th>2</th>\n",
              "      <td>spam</td>\n",
              "      <td>Free entry in 2 a wkly comp to win FA Cup fina...</td>\n",
              "    </tr>\n",
              "    <tr>\n",
              "      <th>3</th>\n",
              "      <td>ham</td>\n",
              "      <td>U dun say so early hor... U c already then say...</td>\n",
              "    </tr>\n",
              "    <tr>\n",
              "      <th>4</th>\n",
              "      <td>ham</td>\n",
              "      <td>Nah I don't think he goes to usf, he lives aro...</td>\n",
              "    </tr>\n",
              "    <tr>\n",
              "      <th>...</th>\n",
              "      <td>...</td>\n",
              "      <td>...</td>\n",
              "    </tr>\n",
              "    <tr>\n",
              "      <th>5567</th>\n",
              "      <td>spam</td>\n",
              "      <td>This is the 2nd time we have tried 2 contact u...</td>\n",
              "    </tr>\n",
              "    <tr>\n",
              "      <th>5568</th>\n",
              "      <td>ham</td>\n",
              "      <td>Will Ì_ b going to esplanade fr home?</td>\n",
              "    </tr>\n",
              "    <tr>\n",
              "      <th>5569</th>\n",
              "      <td>ham</td>\n",
              "      <td>Pity, * was in mood for that. So...any other s...</td>\n",
              "    </tr>\n",
              "    <tr>\n",
              "      <th>5570</th>\n",
              "      <td>ham</td>\n",
              "      <td>The guy did some bitching but I acted like i'd...</td>\n",
              "    </tr>\n",
              "    <tr>\n",
              "      <th>5571</th>\n",
              "      <td>ham</td>\n",
              "      <td>Rofl. Its true to its name</td>\n",
              "    </tr>\n",
              "  </tbody>\n",
              "</table>\n",
              "<p>5572 rows × 2 columns</p>\n",
              "</div>"
            ],
            "text/plain": [
              "        v1                                                 v2\n",
              "0      ham  Go until jurong point, crazy.. Available only ...\n",
              "1      ham                      Ok lar... Joking wif u oni...\n",
              "2     spam  Free entry in 2 a wkly comp to win FA Cup fina...\n",
              "3      ham  U dun say so early hor... U c already then say...\n",
              "4      ham  Nah I don't think he goes to usf, he lives aro...\n",
              "...    ...                                                ...\n",
              "5567  spam  This is the 2nd time we have tried 2 contact u...\n",
              "5568   ham              Will Ì_ b going to esplanade fr home?\n",
              "5569   ham  Pity, * was in mood for that. So...any other s...\n",
              "5570   ham  The guy did some bitching but I acted like i'd...\n",
              "5571   ham                         Rofl. Its true to its name\n",
              "\n",
              "[5572 rows x 2 columns]"
            ]
          },
          "metadata": {
            "tags": []
          },
          "execution_count": 5
        }
      ]
    },
    {
      "cell_type": "code",
      "metadata": {
        "id": "ZSKVg4IhCnhF",
        "colab": {
          "base_uri": "https://localhost:8080/"
        },
        "outputId": "232fd88a-e84f-4015-9705-6d21c7b8d0a7"
      },
      "source": [
        "data.drop(['Unnamed: 2','Unnamed: 3','Unnamed: 4'],axis=1)\n",
        "data.rename(columns={'v1':'Class','v2':'Text'},inplace=True)\n",
        "data['numClass']=data['Class'].map({'ham':0,'spam':1})\n",
        "for i in np.arange(0,len(data.Text)):\n",
        "  data.loc[i,'count']=len(data.loc[i,'Text'])\n",
        "print(\"Unique values in the class set:\",data.Class.unique())\n",
        "print(data.head())"
      ],
      "execution_count": null,
      "outputs": [
        {
          "output_type": "stream",
          "text": [
            "Unique values in the class set: ['ham' 'spam']\n",
            "  Class                                               Text  ... numClass  count\n",
            "0   ham  Go until jurong point, crazy.. Available only ...  ...        0  111.0\n",
            "1   ham                      Ok lar... Joking wif u oni...  ...        0   29.0\n",
            "2  spam  Free entry in 2 a wkly comp to win FA Cup fina...  ...        1  155.0\n",
            "3   ham  U dun say so early hor... U c already then say...  ...        0   49.0\n",
            "4   ham  Nah I don't think he goes to usf, he lives aro...  ...        0   61.0\n",
            "\n",
            "[5 rows x 7 columns]\n"
          ],
          "name": "stdout"
        }
      ]
    },
    {
      "cell_type": "code",
      "metadata": {
        "id": "tilxsWttC1LA",
        "colab": {
          "base_uri": "https://localhost:8080/"
        },
        "outputId": "cd6ea82e-eef4-4a7b-efa1-e2dc3f1ca50d"
      },
      "source": [
        "import nltk\n",
        "nltk.download('stopwords')"
      ],
      "execution_count": null,
      "outputs": [
        {
          "output_type": "stream",
          "text": [
            "[nltk_data] Downloading package stopwords to /root/nltk_data...\n",
            "[nltk_data]   Unzipping corpora/stopwords.zip.\n"
          ],
          "name": "stdout"
        },
        {
          "output_type": "execute_result",
          "data": {
            "text/plain": [
              "True"
            ]
          },
          "metadata": {
            "tags": []
          },
          "execution_count": 7
        }
      ]
    },
    {
      "cell_type": "code",
      "metadata": {
        "id": "LmLnU6kKJ6r6"
      },
      "source": [
        "def process_text(Text):\n",
        "  nopunc=[char for char in Text if char not in string.punctuation]\n",
        "  nopunc=''.join(nopunc)\n",
        "  clean_words=[word for word in nopunc.split() if word.lower() not in stopwords.words('english')]\n",
        "  return clean_words"
      ],
      "execution_count": null,
      "outputs": []
    },
    {
      "cell_type": "code",
      "metadata": {
        "id": "yRRIlTnH3Gys",
        "colab": {
          "base_uri": "https://localhost:8080/"
        },
        "outputId": "e36f92e6-840f-4866-a98d-f77f17e33ab9"
      },
      "source": [
        "data['Text'].head().apply(process_text)"
      ],
      "execution_count": null,
      "outputs": [
        {
          "output_type": "execute_result",
          "data": {
            "text/plain": [
              "0    [Go, jurong, point, crazy, Available, bugis, n...\n",
              "1                       [Ok, lar, Joking, wif, u, oni]\n",
              "2    [Free, entry, 2, wkly, comp, win, FA, Cup, fin...\n",
              "3        [U, dun, say, early, hor, U, c, already, say]\n",
              "4    [Nah, dont, think, goes, usf, lives, around, t...\n",
              "Name: Text, dtype: object"
            ]
          },
          "metadata": {
            "tags": []
          },
          "execution_count": 9
        }
      ]
    },
    {
      "cell_type": "code",
      "metadata": {
        "id": "2Eu0PWcDtOPh",
        "colab": {
          "base_uri": "https://localhost:8080/"
        },
        "outputId": "477efae2-0e16-444a-c0d3-cfa4ed96da4c"
      },
      "source": [
        "message_bow=CountVectorizer(analyzer=process_text).fit_transform(data['Text'])\n",
        "print(message_bow)"
      ],
      "execution_count": null,
      "outputs": [
        {
          "output_type": "stream",
          "text": [
            "  (0, 2027)\t1\n",
            "  (0, 7456)\t1\n",
            "  (0, 8809)\t1\n",
            "  (0, 5685)\t1\n",
            "  (0, 1096)\t1\n",
            "  (0, 5136)\t1\n",
            "  (0, 8231)\t1\n",
            "  (0, 6846)\t1\n",
            "  (0, 11043)\t1\n",
            "  (0, 7567)\t1\n",
            "  (0, 6131)\t1\n",
            "  (0, 5135)\t1\n",
            "  (0, 1461)\t1\n",
            "  (0, 6815)\t1\n",
            "  (0, 4574)\t1\n",
            "  (0, 10845)\t1\n",
            "  (1, 3012)\t1\n",
            "  (1, 7600)\t1\n",
            "  (1, 2407)\t1\n",
            "  (1, 10952)\t1\n",
            "  (1, 10582)\t1\n",
            "  (1, 8482)\t1\n",
            "  (2, 1909)\t1\n",
            "  (2, 6244)\t2\n",
            "  (2, 422)\t1\n",
            "  :\t:\n",
            "  (5568, 6791)\t1\n",
            "  (5568, 11239)\t1\n",
            "  (5568, 6604)\t1\n",
            "  (5568, 6267)\t1\n",
            "  (5569, 8147)\t1\n",
            "  (5569, 3169)\t1\n",
            "  (5569, 3655)\t1\n",
            "  (5569, 10087)\t1\n",
            "  (5570, 7698)\t1\n",
            "  (5570, 10886)\t1\n",
            "  (5570, 8314)\t1\n",
            "  (5570, 10669)\t1\n",
            "  (5570, 6612)\t1\n",
            "  (5570, 9804)\t1\n",
            "  (5570, 6196)\t1\n",
            "  (5570, 6710)\t1\n",
            "  (5570, 5169)\t1\n",
            "  (5570, 7297)\t1\n",
            "  (5570, 6892)\t1\n",
            "  (5570, 7190)\t1\n",
            "  (5570, 4430)\t1\n",
            "  (5570, 4973)\t1\n",
            "  (5571, 8243)\t1\n",
            "  (5571, 10532)\t1\n",
            "  (5571, 3370)\t1\n"
          ],
          "name": "stdout"
        }
      ]
    },
    {
      "cell_type": "code",
      "metadata": {
        "colab": {
          "base_uri": "https://localhost:8080/"
        },
        "id": "n_mRaNiju1lI",
        "outputId": "59fdc3a3-bb0a-4247-9242-c3658856aaec"
      },
      "source": [
        "message_bow.shape"
      ],
      "execution_count": null,
      "outputs": [
        {
          "output_type": "execute_result",
          "data": {
            "text/plain": [
              "(5572, 11304)"
            ]
          },
          "metadata": {
            "tags": []
          },
          "execution_count": 11
        }
      ]
    },
    {
      "cell_type": "code",
      "metadata": {
        "id": "tMi0UrKd7UWk"
      },
      "source": [
        "x_train,x_test,y_train,y_test=train_test_split(message_bow,data['numClass'],test_size=0.30,random_state=None)"
      ],
      "execution_count": null,
      "outputs": []
    },
    {
      "cell_type": "code",
      "metadata": {
        "id": "3EOpjE4t9EJT",
        "colab": {
          "base_uri": "https://localhost:8080/"
        },
        "outputId": "6cb63a1a-6d4e-4007-97d0-f0bc73f6b5cd"
      },
      "source": [
        "print(x_train.shape[0])\n",
        "print(x_test.shape[0])"
      ],
      "execution_count": null,
      "outputs": [
        {
          "output_type": "stream",
          "text": [
            "3900\n",
            "1672\n"
          ],
          "name": "stdout"
        }
      ]
    },
    {
      "cell_type": "markdown",
      "metadata": {
        "id": "GAMSQF8k4sSP"
      },
      "source": [
        ""
      ]
    },
    {
      "cell_type": "code",
      "metadata": {
        "id": "wgSbvdN493eJ"
      },
      "source": [
        "classifier=KNeighborsClassifier(n_neighbors=5).fit(x_train,y_train)"
      ],
      "execution_count": null,
      "outputs": []
    },
    {
      "cell_type": "code",
      "metadata": {
        "id": "lGB4lJ5T-UxD",
        "colab": {
          "base_uri": "https://localhost:8080/"
        },
        "outputId": "35a42e20-f0f5-4172-eba5-89827b3b6f70"
      },
      "source": [
        "print(classifier.predict(x_test))\n",
        "print(y_test.values)"
      ],
      "execution_count": null,
      "outputs": [
        {
          "output_type": "stream",
          "text": [
            "[0 0 0 ... 0 0 0]\n",
            "[0 0 0 ... 0 0 0]\n"
          ],
          "name": "stdout"
        }
      ]
    },
    {
      "cell_type": "code",
      "metadata": {
        "id": "o260KMiH_MMX",
        "colab": {
          "base_uri": "https://localhost:8080/"
        },
        "outputId": "03b22979-871a-44dc-ba62-d54b6fe00eaf"
      },
      "source": [
        "print(classifier.predict(x_test))\n",
        "print(y_test.values)\n",
        "pred=classifier.predict(x_test)\n",
        "print('accuracy:',accuracy_score(y_test,pred))"
      ],
      "execution_count": null,
      "outputs": [
        {
          "output_type": "stream",
          "text": [
            "[0 0 0 ... 0 0 0]\n",
            "[0 0 0 ... 0 0 0]\n",
            "accuracy: 0.8977272727272727\n"
          ],
          "name": "stdout"
        }
      ]
    },
    {
      "cell_type": "code",
      "metadata": {
        "colab": {
          "base_uri": "https://localhost:8080/"
        },
        "id": "X25vrFYTwMva",
        "outputId": "19375b44-5684-4e8f-eb4c-d0e14417e838"
      },
      "source": [
        "from sklearn.metrics import classification_report,accuracy_score\n",
        "pred=classifier.predict(x_train)\n",
        "print(classification_report(y_train,pred))\n",
        "\n"
      ],
      "execution_count": null,
      "outputs": [
        {
          "output_type": "stream",
          "text": [
            "              precision    recall  f1-score   support\n",
            "\n",
            "           0       0.91      1.00      0.95      3383\n",
            "           1       1.00      0.36      0.53       517\n",
            "\n",
            "    accuracy                           0.92      3900\n",
            "   macro avg       0.96      0.68      0.74      3900\n",
            "weighted avg       0.92      0.92      0.90      3900\n",
            "\n"
          ],
          "name": "stdout"
        }
      ]
    },
    {
      "cell_type": "code",
      "metadata": {
        "colab": {
          "base_uri": "https://localhost:8080/"
        },
        "id": "oL655LY0xRL2",
        "outputId": "808534c2-db0d-4bc9-af4a-54bd5fc77353"
      },
      "source": [
        "from sklearn.metrics import classification_report,accuracy_score\n",
        "pred=classifier.predict(x_test)\n",
        "print(classification_report(y_test,pred))"
      ],
      "execution_count": null,
      "outputs": [
        {
          "output_type": "stream",
          "text": [
            "              precision    recall  f1-score   support\n",
            "\n",
            "           0       0.89      1.00      0.94      1442\n",
            "           1       1.00      0.26      0.41       230\n",
            "\n",
            "    accuracy                           0.90      1672\n",
            "   macro avg       0.95      0.63      0.68      1672\n",
            "weighted avg       0.91      0.90      0.87      1672\n",
            "\n"
          ],
          "name": "stdout"
        }
      ]
    }
  ]
}